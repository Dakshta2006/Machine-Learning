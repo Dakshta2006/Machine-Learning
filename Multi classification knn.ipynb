{
 "cells": [
  {
   "cell_type": "markdown",
   "id": "ebfcce6e-3100-4484-83a7-25da49bf400b",
   "metadata": {},
   "source": [
    "## Multiple Classification using KNN"
   ]
  },
  {
   "cell_type": "code",
   "execution_count": 3,
   "id": "8d4f0676-5dbf-49fb-9f77-090bc03565c9",
   "metadata": {},
   "outputs": [],
   "source": [
    "import numpy as np\n",
    "import pandas as pd\n",
    "import matplotlib.pyplot as plt"
   ]
  },
  {
   "cell_type": "code",
   "execution_count": 5,
   "id": "5eeac992-5282-444c-812b-172d37326641",
   "metadata": {},
   "outputs": [],
   "source": [
    "train_df = pd.read_csv('multi_classification_train.csv')\n",
    "test_df = pd.read_csv('multi_classification_test.csv')"
   ]
  },
  {
   "cell_type": "code",
   "execution_count": 7,
   "id": "392e7576-b929-474f-92d6-2813228ad8b1",
   "metadata": {},
   "outputs": [],
   "source": [
    "X_train = train_df.drop(columns=[\"ID\", \"Class\"]).values\n",
    "y_train = train_df[\"Class\"].values"
   ]
  },
  {
   "cell_type": "code",
   "execution_count": 9,
   "id": "744cf295-d8c8-4d14-b38d-bb4d32eedb6b",
   "metadata": {},
   "outputs": [],
   "source": [
    "X_test = test_df.drop(columns=[\"ID\"]).values"
   ]
  },
  {
   "cell_type": "code",
   "execution_count": 11,
   "id": "232ee757-af58-4ae8-9ae9-3f731d98b1ab",
   "metadata": {},
   "outputs": [],
   "source": [
    "def knn_predict(X_train, y_train, X_test, k):\n",
    "    predictions = []\n",
    "    for test_point in X_test:\n",
    "        distances = np.linalg.norm(X_train - test_point, axis=1)\n",
    "        k_indices = np.argsort(distances)[:k]\n",
    "        k_nearest_labels = y_train[k_indices]\n",
    "        unique, counts = np.unique(k_nearest_labels, return_counts=True)\n",
    "        most_common_label = unique[np.argmax(counts)]\n",
    "        predictions.append(most_common_label)\n",
    "    return np.array(predictions)"
   ]
  },
  {
   "cell_type": "code",
   "execution_count": 13,
   "id": "be9176ce-307f-4f7c-a4eb-a22dc1c73130",
   "metadata": {},
   "outputs": [],
   "source": [
    "def calculate_f1(y_true, y_pred):\n",
    "    classes = np.unique(y_true)\n",
    "    precision_total = 0.0\n",
    "    recall_total = 0.0\n",
    "    f1_total = 0.0\n",
    "\n",
    "    for cls in classes:\n",
    "        tp = np.sum((y_true == cls) & (y_pred == cls))\n",
    "        fp = np.sum((y_true != cls) & (y_pred == cls))\n",
    "        fn = np.sum((y_true == cls) & (y_pred != cls))\n",
    "        \n",
    "        precision_class = tp / (tp + fp) if tp + fp > 0 else 0.0\n",
    "        recall_class = tp / (tp + fn) if tp + fn > 0 else 0.0\n",
    "        f1_class = (\n",
    "            2 * (precision_class * recall_class) / (precision_class + recall_class)\n",
    "            if precision_class + recall_class > 0\n",
    "            else 0.0\n",
    "        )\n",
    "\n",
    "        precision_total += precision_class\n",
    "        recall_total += recall_class\n",
    "        f1_total += f1_class\n",
    "\n",
    "    precision = precision_total / len(classes)\n",
    "    recall = recall_total / len(classes)\n",
    "    f1 = f1_total / len(classes)\n",
    "    \n",
    "    return precision, recall, f1\n"
   ]
  },
  {
   "cell_type": "code",
   "execution_count": 15,
   "id": "5d0f069a-c689-4a13-a968-9cca119fc710",
   "metadata": {},
   "outputs": [],
   "source": [
    "k = 8\n",
    "train_predictions = knn_predict(X_train, y_train, X_train, k)"
   ]
  },
  {
   "cell_type": "code",
   "execution_count": 16,
   "id": "a05480d1-63da-4a69-b601-b37906b414dc",
   "metadata": {},
   "outputs": [
    {
     "name": "stdout",
     "output_type": "stream",
     "text": [
      "Precision: 0.9588\n",
      "Recall: 0.9430\n",
      "F1 Score: 0.9505\n"
     ]
    }
   ],
   "source": [
    "precision, recall, f1 = calculate_f1(y_train, train_predictions)\n",
    "\n",
    "print(f\"Precision: {precision:.4f}\")\n",
    "print(f\"Recall: {recall:.4f}\")\n",
    "print(f\"F1 Score: {f1:.4f}\")"
   ]
  },
  {
   "cell_type": "code",
   "execution_count": 17,
   "id": "b969efbd-970e-47c7-84c8-e28848a12760",
   "metadata": {},
   "outputs": [
    {
     "name": "stdout",
     "output_type": "stream",
     "text": [
      "Predicted labels for the test set: [3 1 1 ... 3 4 1]\n"
     ]
    }
   ],
   "source": [
    "predictions = knn_predict(X_train, y_train, X_test, k)\n",
    "\n",
    "print(\"Predicted labels for the test set:\", predictions)"
   ]
  },
  {
   "cell_type": "code",
   "execution_count": 18,
   "id": "89233719-5987-44c9-8ff6-0b571c342250",
   "metadata": {},
   "outputs": [
    {
     "name": "stdout",
     "output_type": "stream",
     "text": [
      "Predictions saved to knn_predictions.csv\n"
     ]
    }
   ],
   "source": [
    "output_path = \"knn_predictions.csv\"\n",
    "test_df[\"Class\"] = predictions\n",
    "test_df[[\"ID\", \"Class\"]].to_csv(output_path, index=False)\n",
    "print(f\"Predictions saved to {output_path}\")"
   ]
  },
  {
   "cell_type": "code",
   "execution_count": null,
   "id": "e6ce632a-da75-4eb2-ad77-d0fb93fc469c",
   "metadata": {},
   "outputs": [],
   "source": [
    "k_values = range(3, 12)  \n",
    "accuracies = []\n",
    "\n",
    "for k in k_values:\n",
    "    train_predictions = knn_predict(X_train, y_train, X_train, k)\n",
    "    precision, recall, f1 = calculate_f1(y_train, train_predictions)\n",
    "    accuracies.append(f1)\n",
    "\n",
    "optimal_k = k_values[np.argmax(accuracies)]\n",
    "print(f\"Optimal value of k: {optimal_k}\")\n",
    "\n",
    "import matplotlib.pyplot as plt\n",
    "plt.plot(k_values, accuracies)\n",
    "plt.xlabel('k')\n",
    "plt.ylabel('Accuracy')\n",
    "plt.title('Accuracy vs k (for k-NN)')\n",
    "plt.show()"
   ]
  },
  {
   "cell_type": "code",
   "execution_count": null,
   "id": "20145562-9a98-45b5-8f64-072903c2ef4f",
   "metadata": {},
   "outputs": [],
   "source": []
  }
 ],
 "metadata": {
  "kernelspec": {
   "display_name": "Python 3 (ipykernel)",
   "language": "python",
   "name": "python3"
  },
  "language_info": {
   "codemirror_mode": {
    "name": "ipython",
    "version": 3
   },
   "file_extension": ".py",
   "mimetype": "text/x-python",
   "name": "python",
   "nbconvert_exporter": "python",
   "pygments_lexer": "ipython3",
   "version": "3.12.7"
  }
 },
 "nbformat": 4,
 "nbformat_minor": 5
}
