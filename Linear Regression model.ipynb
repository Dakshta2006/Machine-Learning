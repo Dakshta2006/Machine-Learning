{
 "cells": [
  {
   "cell_type": "markdown",
   "id": "cf499d23-dd28-41ef-87ec-6f6e1f18ce73",
   "metadata": {},
   "source": [
    "## Linear Regression"
   ]
  },
  {
   "cell_type": "code",
   "execution_count": 176,
   "id": "f22808b3-7049-4766-bd1f-5cb1980ed390",
   "metadata": {},
   "outputs": [],
   "source": [
    "import pandas as pd\n",
    "import numpy as np\n",
    "import matplotlib.pyplot as plt"
   ]
  },
  {
   "cell_type": "code",
   "execution_count": 178,
   "id": "9a74eddd-a29b-47db-876f-24ee07a78e70",
   "metadata": {},
   "outputs": [],
   "source": [
    "train = pd.read_csv('linear_regression_train.csv')\n",
    "test = pd.read_csv('linear_regression_test.csv')"
   ]
  },
  {
   "cell_type": "code",
   "execution_count": 179,
   "id": "d91cff1b-a369-4ffb-97bb-84f6239c284e",
   "metadata": {
    "scrolled": true
   },
   "outputs": [
    {
     "data": {
      "text/html": [
       "<div>\n",
       "<style scoped>\n",
       "    .dataframe tbody tr th:only-of-type {\n",
       "        vertical-align: middle;\n",
       "    }\n",
       "\n",
       "    .dataframe tbody tr th {\n",
       "        vertical-align: top;\n",
       "    }\n",
       "\n",
       "    .dataframe thead th {\n",
       "        text-align: right;\n",
       "    }\n",
       "</style>\n",
       "<table border=\"1\" class=\"dataframe\">\n",
       "  <thead>\n",
       "    <tr style=\"text-align: right;\">\n",
       "      <th></th>\n",
       "      <th>ID</th>\n",
       "      <th>Feature_1</th>\n",
       "      <th>Feature_2</th>\n",
       "      <th>Feature_3</th>\n",
       "      <th>Feature_4</th>\n",
       "      <th>Feature_5</th>\n",
       "      <th>Feature_6</th>\n",
       "      <th>Feature_7</th>\n",
       "      <th>Feature_8</th>\n",
       "      <th>Feature_9</th>\n",
       "      <th>...</th>\n",
       "      <th>Feature_17</th>\n",
       "      <th>Feature_18</th>\n",
       "      <th>Feature_19</th>\n",
       "      <th>Feature_20</th>\n",
       "      <th>Feature_21</th>\n",
       "      <th>Feature_22</th>\n",
       "      <th>Feature_23</th>\n",
       "      <th>Feature_24</th>\n",
       "      <th>Feature_25</th>\n",
       "      <th>Target</th>\n",
       "    </tr>\n",
       "  </thead>\n",
       "  <tbody>\n",
       "    <tr>\n",
       "      <th>0</th>\n",
       "      <td>1</td>\n",
       "      <td>-10.429837</td>\n",
       "      <td>21.684251</td>\n",
       "      <td>93.056324</td>\n",
       "      <td>128.914740</td>\n",
       "      <td>1.657315</td>\n",
       "      <td>-34.602633</td>\n",
       "      <td>-70.314374</td>\n",
       "      <td>-89.585318</td>\n",
       "      <td>-98.465642</td>\n",
       "      <td>...</td>\n",
       "      <td>-99.322780</td>\n",
       "      <td>19.560135</td>\n",
       "      <td>25.568291</td>\n",
       "      <td>-40.876179</td>\n",
       "      <td>-116.146068</td>\n",
       "      <td>-82.181299</td>\n",
       "      <td>-99.423518</td>\n",
       "      <td>-41.150654</td>\n",
       "      <td>113.117197</td>\n",
       "      <td>5235.690928</td>\n",
       "    </tr>\n",
       "    <tr>\n",
       "      <th>1</th>\n",
       "      <td>2</td>\n",
       "      <td>12.475081</td>\n",
       "      <td>11.652011</td>\n",
       "      <td>-47.621889</td>\n",
       "      <td>-21.892583</td>\n",
       "      <td>-25.844861</td>\n",
       "      <td>-46.951253</td>\n",
       "      <td>-114.500805</td>\n",
       "      <td>-96.257473</td>\n",
       "      <td>-138.354981</td>\n",
       "      <td>...</td>\n",
       "      <td>-89.763107</td>\n",
       "      <td>-8.250307</td>\n",
       "      <td>-8.798353</td>\n",
       "      <td>-23.452091</td>\n",
       "      <td>-56.769063</td>\n",
       "      <td>-26.722372</td>\n",
       "      <td>-97.694304</td>\n",
       "      <td>13.816113</td>\n",
       "      <td>8.711894</td>\n",
       "      <td>-1221.442146</td>\n",
       "    </tr>\n",
       "    <tr>\n",
       "      <th>2</th>\n",
       "      <td>3</td>\n",
       "      <td>7.696188</td>\n",
       "      <td>24.729547</td>\n",
       "      <td>43.782383</td>\n",
       "      <td>-53.282523</td>\n",
       "      <td>-69.145794</td>\n",
       "      <td>-57.072335</td>\n",
       "      <td>-114.149171</td>\n",
       "      <td>-105.408739</td>\n",
       "      <td>-71.892560</td>\n",
       "      <td>...</td>\n",
       "      <td>-3.859655</td>\n",
       "      <td>-17.301240</td>\n",
       "      <td>-1.622924</td>\n",
       "      <td>-39.351214</td>\n",
       "      <td>-73.973949</td>\n",
       "      <td>-33.844638</td>\n",
       "      <td>-100.874861</td>\n",
       "      <td>-38.895598</td>\n",
       "      <td>34.488334</td>\n",
       "      <td>-1102.758862</td>\n",
       "    </tr>\n",
       "    <tr>\n",
       "      <th>3</th>\n",
       "      <td>4</td>\n",
       "      <td>6.505033</td>\n",
       "      <td>22.092605</td>\n",
       "      <td>-25.161422</td>\n",
       "      <td>4.742729</td>\n",
       "      <td>-20.344550</td>\n",
       "      <td>-50.248793</td>\n",
       "      <td>-89.324731</td>\n",
       "      <td>-104.002016</td>\n",
       "      <td>-160.103875</td>\n",
       "      <td>...</td>\n",
       "      <td>48.557507</td>\n",
       "      <td>-1.997502</td>\n",
       "      <td>-0.856194</td>\n",
       "      <td>-34.259923</td>\n",
       "      <td>-3.113819</td>\n",
       "      <td>13.398035</td>\n",
       "      <td>-94.899866</td>\n",
       "      <td>-77.051331</td>\n",
       "      <td>-16.014027</td>\n",
       "      <td>437.940266</td>\n",
       "    </tr>\n",
       "    <tr>\n",
       "      <th>4</th>\n",
       "      <td>5</td>\n",
       "      <td>5.906445</td>\n",
       "      <td>19.909180</td>\n",
       "      <td>24.705865</td>\n",
       "      <td>-51.875251</td>\n",
       "      <td>-24.857500</td>\n",
       "      <td>-25.879977</td>\n",
       "      <td>-37.787560</td>\n",
       "      <td>-99.587673</td>\n",
       "      <td>-47.929647</td>\n",
       "      <td>...</td>\n",
       "      <td>3.556973</td>\n",
       "      <td>-26.643253</td>\n",
       "      <td>-0.976567</td>\n",
       "      <td>-44.127974</td>\n",
       "      <td>-44.249542</td>\n",
       "      <td>-6.166813</td>\n",
       "      <td>-97.099111</td>\n",
       "      <td>-5.426910</td>\n",
       "      <td>-42.191157</td>\n",
       "      <td>755.825367</td>\n",
       "    </tr>\n",
       "  </tbody>\n",
       "</table>\n",
       "<p>5 rows × 27 columns</p>\n",
       "</div>"
      ],
      "text/plain": [
       "   ID  Feature_1  Feature_2  Feature_3   Feature_4  Feature_5  Feature_6  \\\n",
       "0   1 -10.429837  21.684251  93.056324  128.914740   1.657315 -34.602633   \n",
       "1   2  12.475081  11.652011 -47.621889  -21.892583 -25.844861 -46.951253   \n",
       "2   3   7.696188  24.729547  43.782383  -53.282523 -69.145794 -57.072335   \n",
       "3   4   6.505033  22.092605 -25.161422    4.742729 -20.344550 -50.248793   \n",
       "4   5   5.906445  19.909180  24.705865  -51.875251 -24.857500 -25.879977   \n",
       "\n",
       "    Feature_7   Feature_8   Feature_9  ...  Feature_17  Feature_18  \\\n",
       "0  -70.314374  -89.585318  -98.465642  ...  -99.322780   19.560135   \n",
       "1 -114.500805  -96.257473 -138.354981  ...  -89.763107   -8.250307   \n",
       "2 -114.149171 -105.408739  -71.892560  ...   -3.859655  -17.301240   \n",
       "3  -89.324731 -104.002016 -160.103875  ...   48.557507   -1.997502   \n",
       "4  -37.787560  -99.587673  -47.929647  ...    3.556973  -26.643253   \n",
       "\n",
       "   Feature_19  Feature_20  Feature_21  Feature_22  Feature_23  Feature_24  \\\n",
       "0   25.568291  -40.876179 -116.146068  -82.181299  -99.423518  -41.150654   \n",
       "1   -8.798353  -23.452091  -56.769063  -26.722372  -97.694304   13.816113   \n",
       "2   -1.622924  -39.351214  -73.973949  -33.844638 -100.874861  -38.895598   \n",
       "3   -0.856194  -34.259923   -3.113819   13.398035  -94.899866  -77.051331   \n",
       "4   -0.976567  -44.127974  -44.249542   -6.166813  -97.099111   -5.426910   \n",
       "\n",
       "   Feature_25       Target  \n",
       "0  113.117197  5235.690928  \n",
       "1    8.711894 -1221.442146  \n",
       "2   34.488334 -1102.758862  \n",
       "3  -16.014027   437.940266  \n",
       "4  -42.191157   755.825367  \n",
       "\n",
       "[5 rows x 27 columns]"
      ]
     },
     "execution_count": 179,
     "metadata": {},
     "output_type": "execute_result"
    }
   ],
   "source": [
    "train.head()"
   ]
  },
  {
   "cell_type": "code",
   "execution_count": 182,
   "id": "f1692c03-b211-4628-a914-bc2402a02669",
   "metadata": {},
   "outputs": [],
   "source": [
    "train = train.drop('ID', axis = 1) \n",
    "test = test.drop('ID', axis = 1)"
   ]
  },
  {
   "cell_type": "code",
   "execution_count": 184,
   "id": "35384243-28da-434f-b4c5-80070062e228",
   "metadata": {},
   "outputs": [],
   "source": [
    "train_data = train.values\n",
    "Y = train_data[:,-1].reshape(train_data.shape[0],1)\n",
    "X = train_data[:, :-1]"
   ]
  },
  {
   "cell_type": "code",
   "execution_count": 186,
   "id": "1f6df215-e2cb-4bf2-969d-e8d4cea19632",
   "metadata": {},
   "outputs": [],
   "source": [
    "test_data = test.values\n",
    "X_test = test_data[:,:]"
   ]
  },
  {
   "cell_type": "code",
   "execution_count": 188,
   "id": "ed1f14bf-a450-449e-b2c3-0d23806569e3",
   "metadata": {},
   "outputs": [
    {
     "name": "stdout",
     "output_type": "stream",
     "text": [
      "[ -10.42983652   21.68425064   93.05632423  128.91474014    1.65731484\n",
      "  -34.6026329   -70.31437352  -89.58531844  -98.46564163   32.70849525\n",
      "  -40.03735389  -84.63446045  -97.75956983  101.0649737    51.45154108\n",
      "  -16.59203035  -99.32278049   19.56013456   25.56829129  -40.876179\n",
      " -116.14606798  -82.18129856  -99.42351759  -41.15065424  113.11719747]\n",
      "[5235.69092808]\n"
     ]
    }
   ],
   "source": [
    "print(X[0])\n",
    "print(Y[0])"
   ]
  },
  {
   "cell_type": "code",
   "execution_count": 190,
   "id": "39ad9675-779c-4a82-adeb-93d9a554656c",
   "metadata": {},
   "outputs": [
    {
     "name": "stdout",
     "output_type": "stream",
     "text": [
      "Shape of X_train : (48000, 25)\n",
      "Shape of Y_train : (48000, 1)\n",
      "Shape of X_test : (12000, 25)\n"
     ]
    }
   ],
   "source": [
    "print(\"Shape of X_train :\", X.shape)\n",
    "print(\"Shape of Y_train :\", Y.shape)\n",
    "print(\"Shape of X_test :\", X_test.shape)"
   ]
  },
  {
   "cell_type": "code",
   "execution_count": 192,
   "id": "01f8dc7b-96b1-4ffa-88d5-b316411805a9",
   "metadata": {},
   "outputs": [],
   "source": [
    "X = np.vstack((np.ones((X.shape[0],)), X.T)).T\n",
    "X_test = np.vstack((np.ones((X_test.shape[0],)), X_test.T)).T"
   ]
  },
  {
   "cell_type": "code",
   "execution_count": 194,
   "id": "8f0bd2a2-9933-43d9-a203-ff9c66a479ae",
   "metadata": {},
   "outputs": [],
   "source": [
    "def model(X, Y, learning_rate, iteration):\n",
    "    m = Y.size\n",
    "    theta = np.zeros((X.shape[1], 1))\n",
    "    cost_list = []\n",
    "    theta_list = []\n",
    "    for i in range(iteration):\n",
    "        y_pred = np.dot(X, theta)\n",
    "        cost = (1/(2*m))*np.sum(np.square(y_pred - Y))\n",
    "        d_theta = (1/m)*np.dot(X.T, y_pred - Y)\n",
    "        theta = theta - learning_rate*d_theta\n",
    "        theta_list.append(theta.copy())\n",
    "        cost_list.append(cost)\n",
    "        # to print the cost for 10 times\n",
    "        if(i%(iteration/10) == 0):\n",
    "            print(\"Cost is :\", cost)\n",
    "    return theta, cost_list, theta_list"
   ]
  },
  {
   "cell_type": "code",
   "execution_count": 196,
   "id": "eccec3c9-72be-4d31-8220-3b8fde247bb3",
   "metadata": {},
   "outputs": [],
   "source": [
    "iteration = 10000"
   ]
  },
  {
   "cell_type": "code",
   "execution_count": 198,
   "id": "e3e48bb2-6d95-4936-acc8-f7e85626777f",
   "metadata": {},
   "outputs": [
    {
     "name": "stdout",
     "output_type": "stream",
     "text": [
      "Training with learning rate: 2.5e-05\n",
      "Cost is : 3103250.636890892\n",
      "Cost is : 96224.40986462728\n",
      "Cost is : 95953.11539543018\n",
      "Cost is : 95942.5497348406\n",
      "Cost is : 95939.24916372755\n",
      "Cost is : 95936.3119702894\n",
      "Cost is : 95933.39687942289\n",
      "Cost is : 95930.48376985597\n",
      "Cost is : 95927.57109759141\n",
      "Cost is : 95924.65868445714\n",
      "Training with learning rate: 2e-05\n",
      "Cost is : 3103250.636890892\n",
      "Cost is : 96714.26333749318\n",
      "Cost is : 95975.21294200493\n",
      "Cost is : 95946.2789429456\n",
      "Cost is : 95941.78775222742\n",
      "Cost is : 95939.249201578\n",
      "Cost is : 95936.89594048863\n",
      "Cost is : 95934.56243925376\n",
      "Cost is : 95932.23155205174\n",
      "Cost is : 95929.90121097791\n",
      "Training with learning rate: 1e-05\n",
      "Cost is : 3103250.636890892\n",
      "Cost is : 111492.17856143828\n",
      "Cost is : 96716.7538830848\n",
      "Cost is : 96067.64249583932\n",
      "Cost is : 95975.26787530011\n",
      "Cost is : 95953.13961051889\n",
      "Cost is : 95946.2842032698\n",
      "Cost is : 95943.45822242429\n",
      "Cost is : 95941.78836821782\n",
      "Cost is : 95940.46530410468\n",
      "Training with learning rate: 1e-06\n",
      "Cost is : 3103250.636890892\n",
      "Cost is : 941174.9456365405\n",
      "Cost is : 569993.3754593438\n",
      "Cost is : 386251.8825085629\n",
      "Cost is : 279215.2524772645\n",
      "Cost is : 213708.98185335213\n",
      "Cost is : 172657.1363339494\n",
      "Cost is : 146531.63083663993\n",
      "Cost is : 129704.05463270405\n",
      "Cost is : 118749.55020218903\n"
     ]
    },
    {
     "data": {
      "image/png": "[encoded data removed]",
      "text/plain": [
       "<Figure size 640x480 with 1 Axes>"
      ]
     },
     "metadata": {},
     "output_type": "display_data"
    }
   ],
   "source": [
    "learning_rates = [0.000025,0.00002, 0.00001, 0.000001]\n",
    "for lr in learning_rates:\n",
    "    print(f\"Training with learning rate: {lr}\")\n",
    "    theta, cost_list, theta_list = model(X, Y, lr, iteration)\n",
    "    plt.plot(cost_list, label=f'LR={lr}')\n",
    "    \n",
    "plt.title('Cost Function vs Iterations (Learning Rate Comparison)')\n",
    "plt.xlabel('Iterations')\n",
    "plt.ylabel('Cost')\n",
    "plt.legend()\n",
    "plt.show()\n"
   ]
  },
  {
   "cell_type": "code",
   "execution_count": 199,
   "id": "1df93041-0c34-461a-b317-806511a47907",
   "metadata": {},
   "outputs": [
    {
     "name": "stdout",
     "output_type": "stream",
     "text": [
      "Cost is : 3103250.636890892\n",
      "Cost is : 96714.26333749318\n",
      "Cost is : 95975.21294200493\n",
      "Cost is : 95946.2789429456\n",
      "Cost is : 95941.78775222742\n",
      "Cost is : 95939.249201578\n",
      "Cost is : 95936.89594048863\n",
      "Cost is : 95934.56243925376\n",
      "Cost is : 95932.23155205174\n",
      "Cost is : 95929.90121097791\n"
     ]
    }
   ],
   "source": [
    "learning_rate = 0.00002\n",
    "theta, cost_list, theta_list = model(X, Y, learning_rate, iteration)"
   ]
  },
  {
   "cell_type": "code",
   "execution_count": 200,
   "id": "ae2836be-17fb-4b6f-8eb6-724dfd169103",
   "metadata": {},
   "outputs": [
    {
     "data": {
      "image/png": "[encoded data removed]",
      "text/plain": [
       "<Figure size 640x480 with 1 Axes>"
      ]
     },
     "metadata": {},
     "output_type": "display_data"
    }
   ],
   "source": [
    "rng = np.arange(0, iteration)\n",
    "plt.plot(rng, cost_list)\n",
    "plt.show()"
   ]
  },
  {
   "cell_type": "code",
   "execution_count": 201,
   "id": "47db5599-1fbf-41d1-880b-05b87833e095",
   "metadata": {},
   "outputs": [],
   "source": [
    "y_train_pred = np.dot(X, theta)"
   ]
  },
  {
   "cell_type": "code",
   "execution_count": 202,
   "id": "0ab1fd92-87e7-402a-9496-7435c2cd6313",
   "metadata": {},
   "outputs": [
    {
     "name": "stdout",
     "output_type": "stream",
     "text": [
      "Mean Squared Error (MSE): 191855.1421953841\n"
     ]
    }
   ],
   "source": [
    "mse = (1 / Y.shape[0]) * np.sum(np.square(y_train_pred - Y))\n",
    "print(f\"Mean Squared Error (MSE): {mse}\")"
   ]
  },
  {
   "cell_type": "code",
   "execution_count": 203,
   "id": "5acaf4d7-ddf3-483d-bb91-681a93b90604",
   "metadata": {},
   "outputs": [
    {
     "name": "stdout",
     "output_type": "stream",
     "text": [
      "Root mean squared error : 438.0127192164448\n"
     ]
    }
   ],
   "source": [
    "rmse = np.sqrt(mse)\n",
    "print(f\"Root mean squared error : {rmse}\")"
   ]
  },
  {
   "cell_type": "markdown",
   "id": "780b55e4-7962-4bfc-a13a-076aac493c21",
   "metadata": {},
   "source": [
    "The rmse is 438 means that the predictions on average differ from true values by 438"
   ]
  },
  {
   "cell_type": "code",
   "execution_count": 205,
   "id": "cdafe0f1-8027-4ff5-98a3-cab50c04313b",
   "metadata": {},
   "outputs": [
    {
     "name": "stdout",
     "output_type": "stream",
     "text": [
      "The relative error:35.12591700860264\n"
     ]
    }
   ],
   "source": [
    "#Relative Errror\n",
    "mean_y = np.mean(Y) \n",
    "relative_error = (rmse / mean_y) * 100\n",
    "print(f\"The relative error:{relative_error}\")"
   ]
  },
  {
   "cell_type": "markdown",
   "id": "84bf9b31-fa97-4fb7-8a4a-8a1dee5e7715",
   "metadata": {},
   "source": [
    "This means our model's predictions are off, on average, by about 35.12% of the actual target value."
   ]
  },
  {
   "cell_type": "code",
   "execution_count": 207,
   "id": "787d72dc-194a-4215-863f-651dc74f77b8",
   "metadata": {},
   "outputs": [],
   "source": [
    "y_test_pred = np.dot(X_test, theta)"
   ]
  },
  {
   "cell_type": "code",
   "execution_count": 208,
   "id": "b12f5111-0e5a-458c-aba0-b44818793d19",
   "metadata": {},
   "outputs": [
    {
     "name": "stdout",
     "output_type": "stream",
     "text": [
      "[963.80524628]\n"
     ]
    }
   ],
   "source": [
    "#giving id value to get predicted target value for that particular id\n",
    "id = 1\n",
    "targetvalue_for_test_dataset = y_test_pred[id-1]\n",
    "print(targetvalue_for_test_dataset)"
   ]
  },
  {
   "cell_type": "code",
   "execution_count": 209,
   "id": "3654a650-3321-4867-be8e-d787e05f21f5",
   "metadata": {},
   "outputs": [
    {
     "name": "stdout",
     "output_type": "stream",
     "text": [
      "Predictions saved to 'linear_regression_predictions.csv'\n"
     ]
    }
   ],
   "source": [
    "output = pd.DataFrame(y_train_pred, columns=['Prediction'])\n",
    "\n",
    "output.to_csv('linear_regression_predictions.csv', index=False)\n",
    "\n",
    "print(\"Predictions saved to 'linear_regression_predictions.csv'\")"
   ]
  },
  {
   "cell_type": "code",
   "execution_count": 210,
   "id": "c991c8cc-627a-4fe3-aeab-57bd68ee0caf",
   "metadata": {},
   "outputs": [],
   "source": [
    "def model_with_regularization(X, Y, learning_rate, iteration, lambda_reg):\n",
    "    m = Y.size\n",
    "    theta = np.zeros((X.shape[1], 1))\n",
    "    cost_list = []\n",
    "    theta_list = []\n",
    "    \n",
    "    for i in range(iteration):\n",
    "        y_pred = np.dot(X, theta)\n",
    "        cost = (1/(2*m)) * np.sum(np.square(y_pred - Y)) + (lambda_reg/(2*m)) * np.sum(np.square(theta[1:]))\n",
    "        d_theta = (1/m) * np.dot(X.T, y_pred - Y)\n",
    "        d_theta[1:] += (lambda_reg/m) * theta[1:]  # Regularization term\n",
    "        theta = theta - learning_rate * d_theta\n",
    "        theta_list.append(theta.copy())\n",
    "        cost_list.append(cost)\n",
    "        \n",
    "        if(i % (iteration/10) == 0):\n",
    "            print(f\"Cost at iteration {i}: {cost}\")\n",
    "    \n",
    "    return theta, cost_list, theta_list\n",
    "\n",
    "lambda_reg = 100\n"
   ]
  },
  {
   "cell_type": "code",
   "execution_count": 211,
   "id": "89c350f8-c7c3-4642-833f-496379d12a40",
   "metadata": {},
   "outputs": [
    {
     "name": "stdout",
     "output_type": "stream",
     "text": [
      "Cost at iteration 0: 3103250.636890892\n",
      "Cost at iteration 1000: 96726.89272813666\n",
      "Cost at iteration 2000: 95987.91754943194\n",
      "Cost at iteration 3000: 95958.98844758951\n",
      "Cost at iteration 4000: 95954.49764106903\n",
      "Cost at iteration 5000: 95951.95895176331\n",
      "Cost at iteration 6000: 95949.60548715692\n",
      "Cost at iteration 7000: 95947.27177395335\n",
      "Cost at iteration 8000: 95944.94067354126\n",
      "Cost at iteration 9000: 95942.61011904298\n",
      "Mean Squared Error after regularization: 191855.14033930158\n",
      "Root Mean Squared Error after regularization: 438.01271709769065\n"
     ]
    }
   ],
   "source": [
    "\n",
    "theta_reg, cost_list, theta_list = model_with_regularization(X, Y, learning_rate, iteration, lambda_reg)\n",
    "\n",
    "y_train_pred_reg = np.dot(X, theta_reg)\n",
    "\n",
    "mse_reg = (1 / Y.shape[0]) * np.sum(np.square(y_train_pred_reg - Y))\n",
    "print(f\"Mean Squared Error after regularization: {mse_reg}\")\n",
    "\n",
    "rmse_reg = np.sqrt(mse_reg)\n",
    "print(f\"Root Mean Squared Error after regularization: {rmse_reg}\")\n"
   ]
  },
  {
   "cell_type": "code",
   "execution_count": 212,
   "id": "64acc952-621b-40fc-a433-5242846c3f63",
   "metadata": {},
   "outputs": [
    {
     "data": {
      "image/png": "[encoded data removed]",
      "text/plain": [
       "<Figure size 640x480 with 1 Axes>"
      ]
     },
     "metadata": {},
     "output_type": "display_data"
    }
   ],
   "source": [
    "plt.plot(cost_list, label=\"Without Regularization\")\n",
    "plt.plot(cost_list_reg, label=\"With Regularization\", linestyle='--')\n",
    "plt.title(\"Cost vs Iterations (Before and After Regularization)\")\n",
    "plt.xlabel(\"Iterations\")\n",
    "plt.ylabel(\"Cost\")\n",
    "plt.legend()\n",
    "plt.show()"
   ]
  },
  {
   "cell_type": "code",
   "execution_count": null,
   "id": "419f6466-51a0-42ad-a5aa-1f686b4bf800",
   "metadata": {},
   "outputs": [],
   "source": []
  }
 ],
 "metadata": {
  "kernelspec": {
   "display_name": "Python 3 (ipykernel)",
   "language": "python",
   "name": "python3"
  },
  "language_info": {
   "codemirror_mode": {
    "name": "ipython",
    "version": 3
   },
   "file_extension": ".py",
   "mimetype": "text/x-python",
   "name": "python",
   "nbconvert_exporter": "python",
   "pygments_lexer": "ipython3",
   "version": "3.12.7"
  }
 },
 "nbformat": 4,
 "nbformat_minor": 5
}
