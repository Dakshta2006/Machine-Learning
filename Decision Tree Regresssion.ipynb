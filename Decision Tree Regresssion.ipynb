{
 "cells": [
  {
   "cell_type": "markdown",
   "id": "45b67ebb-a05d-4747-88b0-96e62ca2a52c",
   "metadata": {},
   "source": [
    "# Decision Tree (Regression)"
   ]
  },
  {
   "cell_type": "code",
   "execution_count": 25,
   "id": "6ad207d8-4e8e-4794-84a0-c274edcde73f",
   "metadata": {},
   "outputs": [],
   "source": [
    "import numpy as np\n",
    "import pandas as pd"
   ]
  },
  {
   "cell_type": "code",
   "execution_count": 27,
   "id": "373c2f2a-f92a-4722-9452-7e22373d968e",
   "metadata": {},
   "outputs": [],
   "source": [
    "def r2_score(y_true, y_pred):\n",
    "    ss_tot = np.sum((y_true - np.mean(y_true)) ** 2)\n",
    "    ss_res = np.sum((y_true - y_pred) ** 2)\n",
    "    return 1 - (ss_res / ss_tot)"
   ]
  },
  {
   "cell_type": "code",
   "execution_count": 29,
   "id": "d70b82d6-e7e4-4f04-ad1f-5093f14fa9d0",
   "metadata": {},
   "outputs": [],
   "source": [
    "def split_dataset(X, y, feature_index, threshold):\n",
    "    left_mask = X[:, feature_index] <= threshold\n",
    "    right_mask = ~left_mask\n",
    "    return X[left_mask], y[left_mask], X[right_mask], y[right_mask]"
   ]
  },
  {
   "cell_type": "code",
   "execution_count": 31,
   "id": "5efd326d-f638-4f18-845f-e9957aaa15de",
   "metadata": {},
   "outputs": [],
   "source": [
    "def best_split(X, y, min_samples_split=2, num_thresholds=10):\n",
    "    best_feature_index = None\n",
    "    best_threshold = None\n",
    "    best_mse = float('inf')\n",
    "\n",
    "    \n",
    "    for feature_index in range(X.shape[1]):\n",
    "        feature_values = X[:, feature_index]\n",
    "        min_val, max_val = np.min(feature_values), np.max(feature_values)\n",
    "        thresholds = np.linspace(min_val, max_val, num_thresholds)\n",
    "        \n",
    "        for threshold in thresholds:\n",
    "            X_left, y_left, X_right, y_right = split_dataset(X, y, feature_index, threshold)\n",
    "            \n",
    "            if len(y_left) < min_samples_split or len(y_right) < min_samples_split:\n",
    "                continue\n",
    "            \n",
    "            left_mean = np.mean(y_left)\n",
    "            right_mean = np.mean(y_right)\n",
    "            mse_left = np.mean((y_left - left_mean) ** 2)\n",
    "            mse_right = np.mean((y_right - right_mean) ** 2)\n",
    "            weighted_mse = (len(y_left) * mse_left + len(y_right) * mse_right) / len(y)\n",
    "            \n",
    "            if weighted_mse < best_mse:\n",
    "                best_mse = weighted_mse\n",
    "                best_feature_index = feature_index\n",
    "                best_threshold = threshold\n",
    "                \n",
    "    return best_feature_index, best_threshold"
   ]
  },
  {
   "cell_type": "code",
   "execution_count": 43,
   "id": "8f36e3e3-4466-4bbf-9993-aac5c724808b",
   "metadata": {},
   "outputs": [],
   "source": [
    "def build_tree(X, y, depth=0, max_depth=30, min_samples_split=5, num_thresholds=10):\n",
    "    if depth >= max_depth or len(np.unique(y)) == 1:  # Stop recursion\n",
    "        return np.mean(y)\n",
    "    \n",
    "    feature_index, threshold = best_split(X, y, min_samples_split, num_thresholds)\n",
    "    if feature_index is None:\n",
    "        return np.mean(y) \n",
    "    \n",
    "    X_left, y_left, X_right, y_right = split_dataset(X, y, feature_index, threshold)\n",
    "    \n",
    "    left_tree = build_tree(X_left, y_left, depth + 1, max_depth, min_samples_split, num_thresholds)\n",
    "    right_tree = build_tree(X_right, y_right, depth + 1, max_depth, min_samples_split, num_thresholds)\n",
    "    \n",
    "    return (feature_index, threshold, left_tree, right_tree)"
   ]
  },
  {
   "cell_type": "code",
   "execution_count": 45,
   "id": "9cd89e63-a832-4792-b31c-0b7a012a1dd6",
   "metadata": {},
   "outputs": [],
   "source": [
    "def predict_tree(X, tree):\n",
    "    if isinstance(tree, float):  \n",
    "        return np.full(X.shape[0], tree)\n",
    "    \n",
    "    feature_index, threshold, left_tree, right_tree = tree\n",
    "    left_mask = X[:, feature_index] <= threshold\n",
    "    right_mask = ~left_mask\n",
    "    \n",
    "    predictions = np.zeros(X.shape[0])\n",
    "    predictions[left_mask] = predict_tree(X[left_mask], left_tree)\n",
    "    predictions[right_mask] = predict_tree(X[right_mask], right_tree)\n",
    "    \n",
    "    return predictions"
   ]
  },
  {
   "cell_type": "code",
   "execution_count": 47,
   "id": "46f81ba6-3596-4f2e-9122-f0a02616b7aa",
   "metadata": {},
   "outputs": [],
   "source": [
    "train = pd.read_csv('linear_regression_train.csv')\n",
    "test = pd.read_csv('linear_regression_test.csv')\n",
    "train_data = train.drop('ID', axis=1)\n",
    "test_data = test.drop('ID', axis=1)\n",
    "\n",
    "X_train = train_data.iloc[:, :-1].values\n",
    "y_train = train_data.iloc[:, -1].values\n",
    "X_test = test_data.iloc[:, :].values"
   ]
  },
  {
   "cell_type": "code",
   "execution_count": 49,
   "id": "50c7ef55-8289-49b9-a845-3bd746cee94a",
   "metadata": {},
   "outputs": [],
   "source": [
    "tree = build_tree(X_train, y_train, max_depth=30, min_samples_split=5, num_thresholds=10)"
   ]
  },
  {
   "cell_type": "code",
   "execution_count": 50,
   "id": "97af591b-ef95-44d9-bc74-e845e4915e04",
   "metadata": {},
   "outputs": [
    {
     "name": "stdout",
     "output_type": "stream",
     "text": [
      "R² Score: 0.8916\n"
     ]
    }
   ],
   "source": [
    "y_train_pred = predict_tree(X_train, tree)\n",
    "\n",
    "r2 = r2_score(y_train, y_train_pred)\n",
    "print(f\"R² Score: {r2:.4f}\")"
   ]
  },
  {
   "cell_type": "code",
   "execution_count": 54,
   "id": "541d7f20-0a63-4726-8b2f-2abd9e7fbb33",
   "metadata": {},
   "outputs": [
    {
     "name": "stdout",
     "output_type": "stream",
     "text": [
      "Test predictions saved to decision_tree_predictions(regression).csv\n"
     ]
    }
   ],
   "source": [
    "y_test_pred = predict_tree(X_test, tree)\n",
    "\n",
    "output_path = \"decision_tree_predictions(regression).csv\"\n",
    "output_df = pd.DataFrame({'ID': test['ID'],\n",
    "'Predicted': y_test_pred})\n",
    "output_df.to_csv(output_path, index=False)\n",
    "\n",
    "print(f\"Test predictions saved to {output_path}\")\n"
   ]
  },
  {
   "cell_type": "code",
   "execution_count": null,
   "id": "4b60b290-18f9-4b48-84bb-5389c584b573",
   "metadata": {},
   "outputs": [],
   "source": []
  }
 ],
 "metadata": {
  "kernelspec": {
   "display_name": "Python 3 (ipykernel)",
   "language": "python",
   "name": "python3"
  },
  "language_info": {
   "codemirror_mode": {
    "name": "ipython",
    "version": 3
   },
   "file_extension": ".py",
   "mimetype": "text/x-python",
   "name": "python",
   "nbconvert_exporter": "python",
   "pygments_lexer": "ipython3",
   "version": "3.12.7"
  }
 },
 "nbformat": 4,
 "nbformat_minor": 5
}
