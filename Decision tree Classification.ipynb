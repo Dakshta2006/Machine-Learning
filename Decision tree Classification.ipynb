{
 "cells": [
  {
   "cell_type": "markdown",
   "id": "80e2ef67-834c-4897-bc05-9f0d33eef335",
   "metadata": {},
   "source": [
    "# Decision Tree (Classification)"
   ]
  },
  {
   "cell_type": "code",
   "execution_count": 3,
   "id": "485395b0-fc93-40c5-8a1d-b6f8a979b597",
   "metadata": {},
   "outputs": [],
   "source": [
    "import numpy as np\n",
    "import pandas as pd"
   ]
  },
  {
   "cell_type": "code",
   "execution_count": 5,
   "id": "4606dcc1-5436-4add-ac1a-fc94ebb86a79",
   "metadata": {},
   "outputs": [],
   "source": [
    "def gini_impurity(y):\n",
    "    total_samples = len(y)\n",
    "    if total_samples == 0:\n",
    "        return 0\n",
    "    class_counts = {}\n",
    "    for label in y:\n",
    "        class_counts[label] = class_counts.get(label, 0) + 1\n",
    "    impurity = 1 - sum((count / total_samples) ** 2 for count in class_counts.values())\n",
    "    return impurity"
   ]
  },
  {
   "cell_type": "code",
   "execution_count": 7,
   "id": "e8bd2df3-f44c-466a-8aa5-b09c85e4fe40",
   "metadata": {},
   "outputs": [],
   "source": [
    "def split_dataset(X, y, feature_index, threshold):\n",
    "    left_mask = X[:, feature_index] <= threshold\n",
    "    right_mask = ~left_mask\n",
    "    return X[left_mask], y[left_mask], X[right_mask], y[right_mask]"
   ]
  },
  {
   "cell_type": "code",
   "execution_count": 9,
   "id": "66a6d918-ff16-42ce-95bf-727e430f178f",
   "metadata": {},
   "outputs": [],
   "source": [
    "def best_split(X, y, min_samples_split=2, num_thresholds=10):\n",
    "    best_feature_index = None\n",
    "    best_threshold = None\n",
    "    best_gini = float('inf')\n",
    "\n",
    "    for feature_index in range(X.shape[1]):  \n",
    "        feature_values = X[:, feature_index]\n",
    "        min_val, max_val = np.min(feature_values), np.max(feature_values)\n",
    "        thresholds = np.linspace(min_val, max_val, num_thresholds)\n",
    "\n",
    "        for threshold in thresholds:\n",
    "            X_left, y_left, X_right, y_right = split_dataset(X, y, feature_index, threshold)\n",
    "\n",
    "            if len(y_left) < min_samples_split or len(y_right) < min_samples_split:\n",
    "                continue\n",
    "\n",
    "            gini_left = gini_impurity(y_left)\n",
    "            gini_right = gini_impurity(y_right)\n",
    "            weighted_gini = (len(y_left) * gini_left + len(y_right) * gini_right) / len(y)\n",
    "\n",
    "            if weighted_gini < best_gini:\n",
    "                best_gini = weighted_gini\n",
    "                best_feature_index = feature_index\n",
    "                best_threshold = threshold\n",
    "\n",
    "    return best_feature_index, best_threshold"
   ]
  },
  {
   "cell_type": "code",
   "execution_count": 11,
   "id": "6f0a4776-b628-4cd6-bd62-6fd2f64f4c06",
   "metadata": {},
   "outputs": [],
   "source": [
    "def build_tree(X, y, depth=0, max_depth=20, min_samples_split=5, num_thresholds=10):\n",
    "    if depth >= max_depth or len(set(y)) == 1 or len(y) < min_samples_split:\n",
    "        return max(set(y), key=list(y).count) \n",
    "\n",
    "    feature_index, threshold = best_split(X, y, min_samples_split, num_thresholds)\n",
    "    if feature_index is None:  \n",
    "        return max(set(y), key=list(y).count)\n",
    "\n",
    "    X_left, y_left, X_right, y_right = split_dataset(X, y, feature_index, threshold)\n",
    "\n",
    "    left_tree = build_tree(X_left, y_left, depth + 1, max_depth, min_samples_split, num_thresholds)\n",
    "    right_tree = build_tree(X_right, y_right, depth + 1, max_depth, min_samples_split, num_thresholds)\n",
    "\n",
    "    return (feature_index, threshold, left_tree, right_tree)"
   ]
  },
  {
   "cell_type": "code",
   "execution_count": 13,
   "id": "37ffc5aa-0d6a-4d7d-871f-d0a85733ec1d",
   "metadata": {},
   "outputs": [],
   "source": [
    "def predict_tree(X, tree):\n",
    "    if isinstance(tree, (int, np.integer)):  \n",
    "        return np.full(X.shape[0], tree)\n",
    "\n",
    "    feature_index, threshold, left_tree, right_tree = tree\n",
    "    left_mask = X[:, feature_index] <= threshold\n",
    "    right_mask = ~left_mask\n",
    "\n",
    "    predictions = np.zeros(X.shape[0], dtype=int)\n",
    "    predictions[left_mask] = predict_tree(X[left_mask], left_tree)\n",
    "    predictions[right_mask] = predict_tree(X[right_mask], right_tree)\n",
    "\n",
    "    return predictions"
   ]
  },
  {
   "cell_type": "code",
   "execution_count": 15,
   "id": "84e15bcb-644a-42ae-8006-123cb1b9d49c",
   "metadata": {},
   "outputs": [],
   "source": [
    "def f1_score(y_true, y_pred):\n",
    "    true_positives = sum((y_true == 1) & (y_pred == 1))\n",
    "    false_positives = sum((y_true == 0) & (y_pred == 1))\n",
    "    false_negatives = sum((y_true == 1) & (y_pred == 0))\n",
    "\n",
    "    precision = true_positives / (true_positives + false_positives) if (true_positives + false_positives) > 0 else 0\n",
    "    recall = true_positives / (true_positives + false_negatives) if (true_positives + false_negatives) > 0 else 0\n",
    "\n",
    "    f1 = 2 * (precision * recall) / (precision + recall) if (precision + recall) > 0 else 0\n",
    "    return f1"
   ]
  },
  {
   "cell_type": "code",
   "execution_count": 17,
   "id": "d7fcf24d-3f9e-49f6-80dd-dfe396833452",
   "metadata": {},
   "outputs": [],
   "source": [
    "train = pd.read_csv('binary_classification_train.csv')\n",
    "test = pd.read_csv('binary_classification_test.csv')\n",
    "\n",
    "train_data = train.drop('ID', axis=1)\n",
    "test_data = test.drop('ID', axis=1)\n",
    "\n",
    "X_train = train_data.iloc[:, :-1].values\n",
    "y_train = train_data.iloc[:, -1].values\n",
    "X_test = test_data.values"
   ]
  },
  {
   "cell_type": "code",
   "execution_count": 19,
   "id": "e4ff25c9-0749-486b-a3cd-ef8986e9a4f6",
   "metadata": {},
   "outputs": [],
   "source": [
    "tree = build_tree(X_train, y_train, max_depth=20, min_samples_split=5, num_thresholds=10)"
   ]
  },
  {
   "cell_type": "code",
   "execution_count": 20,
   "id": "e44c863c-0dc4-4c54-9730-463a2a351663",
   "metadata": {},
   "outputs": [],
   "source": [
    "y_train_pred = predict_tree(X_train, tree)"
   ]
  },
  {
   "cell_type": "code",
   "execution_count": 21,
   "id": "0e91128e-4350-499e-bfd9-f49af3a4b469",
   "metadata": {},
   "outputs": [
    {
     "name": "stdout",
     "output_type": "stream",
     "text": [
      "F1 Score on Training Data: 0.9260\n"
     ]
    }
   ],
   "source": [
    "f1 = f1_score(y_train, y_train_pred)\n",
    "print(f\"F1 Score on Training Data: {f1:.4f}\")"
   ]
  },
  {
   "cell_type": "code",
   "execution_count": 22,
   "id": "b0b665e7-3ee2-41eb-80a5-09374f06ef6c",
   "metadata": {},
   "outputs": [],
   "source": [
    "y_test_pred = predict_tree(X_test, tree)"
   ]
  },
  {
   "cell_type": "code",
   "execution_count": 23,
   "id": "d2d0ef2e-95ec-4232-a0a4-67343a5447f1",
   "metadata": {},
   "outputs": [
    {
     "name": "stdout",
     "output_type": "stream",
     "text": [
      "Test predictions saved to 'test_predictions.csv'.\n"
     ]
    }
   ],
   "source": [
    "output = pd.DataFrame({\n",
    "    'ID': test['ID'],\n",
    "    'Prediction': y_test_pred.astype(int)\n",
    "})\n",
    "output.to_csv('decision_tree_predictions(classification).csv', index=False)\n",
    "print(\"Test predictions saved to 'test_predictions.csv'.\")"
   ]
  },
  {
   "cell_type": "code",
   "execution_count": null,
   "id": "2332f965-60c4-49a7-b974-d2c328843cbf",
   "metadata": {},
   "outputs": [],
   "source": []
  }
 ],
 "metadata": {
  "kernelspec": {
   "display_name": "Python 3 (ipykernel)",
   "language": "python",
   "name": "python3"
  },
  "language_info": {
   "codemirror_mode": {
    "name": "ipython",
    "version": 3
   },
   "file_extension": ".py",
   "mimetype": "text/x-python",
   "name": "python",
   "nbconvert_exporter": "python",
   "pygments_lexer": "ipython3",
   "version": "3.12.7"
  }
 },
 "nbformat": 4,
 "nbformat_minor": 5
}
